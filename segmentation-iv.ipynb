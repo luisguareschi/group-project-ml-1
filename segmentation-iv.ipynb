{
 "cells": [
  {
   "cell_type": "markdown",
   "id": "e0117b5d",
   "metadata": {},
   "source": [
    "## Read the data"
   ]
  },
  {
   "cell_type": "code",
   "execution_count": 166,
   "id": "1dc516cc",
   "metadata": {},
   "outputs": [
    {
     "data": {
      "text/html": [
       "<div>\n",
       "<style scoped>\n",
       "    .dataframe tbody tr th:only-of-type {\n",
       "        vertical-align: middle;\n",
       "    }\n",
       "\n",
       "    .dataframe tbody tr th {\n",
       "        vertical-align: top;\n",
       "    }\n",
       "\n",
       "    .dataframe thead th {\n",
       "        text-align: right;\n",
       "    }\n",
       "</style>\n",
       "<table border=\"1\" class=\"dataframe\">\n",
       "  <thead>\n",
       "    <tr style=\"text-align: right;\">\n",
       "      <th></th>\n",
       "      <th>Id</th>\n",
       "      <th>District</th>\n",
       "      <th>Address</th>\n",
       "      <th>Number</th>\n",
       "      <th>Area</th>\n",
       "      <th>Rent</th>\n",
       "      <th>Bedrooms</th>\n",
       "      <th>Sq.Mt</th>\n",
       "      <th>Floor</th>\n",
       "      <th>Outer</th>\n",
       "      <th>Elevator</th>\n",
       "      <th>Penthouse</th>\n",
       "      <th>Cottage</th>\n",
       "      <th>Duplex</th>\n",
       "      <th>Semidetached</th>\n",
       "    </tr>\n",
       "  </thead>\n",
       "  <tbody>\n",
       "    <tr>\n",
       "      <th>0</th>\n",
       "      <td>1</td>\n",
       "      <td>Ciudad Lineal</td>\n",
       "      <td>Piso en Quintana</td>\n",
       "      <td>NaN</td>\n",
       "      <td>Quintana</td>\n",
       "      <td>1300</td>\n",
       "      <td>2.0</td>\n",
       "      <td>72</td>\n",
       "      <td>3.0</td>\n",
       "      <td>1.0</td>\n",
       "      <td>1.0</td>\n",
       "      <td>0</td>\n",
       "      <td>0</td>\n",
       "      <td>0</td>\n",
       "      <td>0</td>\n",
       "    </tr>\n",
       "    <tr>\n",
       "      <th>1</th>\n",
       "      <td>2</td>\n",
       "      <td>Ciudad Lineal</td>\n",
       "      <td>Piso en calle de Arturo Soria</td>\n",
       "      <td>NaN</td>\n",
       "      <td>Costillares</td>\n",
       "      <td>3000</td>\n",
       "      <td>5.0</td>\n",
       "      <td>260</td>\n",
       "      <td>2.0</td>\n",
       "      <td>1.0</td>\n",
       "      <td>1.0</td>\n",
       "      <td>0</td>\n",
       "      <td>0</td>\n",
       "      <td>0</td>\n",
       "      <td>0</td>\n",
       "    </tr>\n",
       "    <tr>\n",
       "      <th>2</th>\n",
       "      <td>3</td>\n",
       "      <td>Ciudad Lineal</td>\n",
       "      <td>Piso en calle de Vicente Muzas</td>\n",
       "      <td>4</td>\n",
       "      <td>Colina</td>\n",
       "      <td>1300</td>\n",
       "      <td>2.0</td>\n",
       "      <td>100</td>\n",
       "      <td>3.0</td>\n",
       "      <td>1.0</td>\n",
       "      <td>1.0</td>\n",
       "      <td>0</td>\n",
       "      <td>0</td>\n",
       "      <td>0</td>\n",
       "      <td>0</td>\n",
       "    </tr>\n",
       "    <tr>\n",
       "      <th>3</th>\n",
       "      <td>4</td>\n",
       "      <td>Ciudad Lineal</td>\n",
       "      <td>Piso en calle Badajoz</td>\n",
       "      <td>NaN</td>\n",
       "      <td>San Pascual</td>\n",
       "      <td>1600</td>\n",
       "      <td>3.0</td>\n",
       "      <td>120</td>\n",
       "      <td>4.0</td>\n",
       "      <td>1.0</td>\n",
       "      <td>1.0</td>\n",
       "      <td>0</td>\n",
       "      <td>0</td>\n",
       "      <td>0</td>\n",
       "      <td>0</td>\n",
       "    </tr>\n",
       "    <tr>\n",
       "      <th>4</th>\n",
       "      <td>5</td>\n",
       "      <td>Ciudad Lineal</td>\n",
       "      <td>Piso en calle de Nuestra Señora del Villar</td>\n",
       "      <td>9</td>\n",
       "      <td>Ventas</td>\n",
       "      <td>800</td>\n",
       "      <td>2.0</td>\n",
       "      <td>60</td>\n",
       "      <td>3.0</td>\n",
       "      <td>1.0</td>\n",
       "      <td>0.0</td>\n",
       "      <td>0</td>\n",
       "      <td>0</td>\n",
       "      <td>0</td>\n",
       "      <td>0</td>\n",
       "    </tr>\n",
       "  </tbody>\n",
       "</table>\n",
       "</div>"
      ],
      "text/plain": [
       "   Id       District                                     Address Number  \\\n",
       "0   1  Ciudad Lineal                            Piso en Quintana    NaN   \n",
       "1   2  Ciudad Lineal               Piso en calle de Arturo Soria    NaN   \n",
       "2   3  Ciudad Lineal              Piso en calle de Vicente Muzas      4   \n",
       "3   4  Ciudad Lineal                       Piso en calle Badajoz    NaN   \n",
       "4   5  Ciudad Lineal  Piso en calle de Nuestra Señora del Villar      9   \n",
       "\n",
       "          Area  Rent  Bedrooms  Sq.Mt  Floor  Outer  Elevator  Penthouse  \\\n",
       "0     Quintana  1300       2.0     72    3.0    1.0       1.0          0   \n",
       "1  Costillares  3000       5.0    260    2.0    1.0       1.0          0   \n",
       "2       Colina  1300       2.0    100    3.0    1.0       1.0          0   \n",
       "3  San Pascual  1600       3.0    120    4.0    1.0       1.0          0   \n",
       "4       Ventas   800       2.0     60    3.0    1.0       0.0          0   \n",
       "\n",
       "   Cottage  Duplex  Semidetached  \n",
       "0        0       0             0  \n",
       "1        0       0             0  \n",
       "2        0       0             0  \n",
       "3        0       0             0  \n",
       "4        0       0             0  "
      ]
     },
     "execution_count": 166,
     "metadata": {},
     "output_type": "execute_result"
    }
   ],
   "source": [
    "import pandas as pd\n",
    "import numpy as np\n",
    "from matplotlib import pyplot as plt\n",
    "\n",
    "\n",
    "df = pd.read_excel('madrid_rent_data.xlsx')\n",
    "\n",
    "## Explore the data\n",
    "df.head()"
   ]
  },
  {
   "cell_type": "markdown",
   "id": "bd5edd34",
   "metadata": {},
   "source": [
    "## Get the data types"
   ]
  },
  {
   "cell_type": "code",
   "execution_count": 167,
   "id": "be1670c2-ac8c-431e-bc2d-472b24890a85",
   "metadata": {},
   "outputs": [
    {
     "data": {
      "text/plain": [
       "(2089, 15)"
      ]
     },
     "execution_count": 167,
     "metadata": {},
     "output_type": "execute_result"
    }
   ],
   "source": [
    "df.shape"
   ]
  },
  {
   "cell_type": "code",
   "execution_count": 168,
   "id": "57ea27f5-0b3b-44ae-87e6-14098adcc3f4",
   "metadata": {},
   "outputs": [
    {
     "name": "stdout",
     "output_type": "stream",
     "text": [
      "<class 'pandas.core.frame.DataFrame'>\n",
      "RangeIndex: 2089 entries, 0 to 2088\n",
      "Data columns (total 15 columns):\n",
      " #   Column        Non-Null Count  Dtype  \n",
      "---  ------        --------------  -----  \n",
      " 0   Id            2089 non-null   int64  \n",
      " 1   District      2089 non-null   object \n",
      " 2   Address       2089 non-null   object \n",
      " 3   Number        747 non-null    object \n",
      " 4   Area          2085 non-null   object \n",
      " 5   Rent          2089 non-null   int64  \n",
      " 6   Bedrooms      2000 non-null   float64\n",
      " 7   Sq.Mt         2089 non-null   int64  \n",
      " 8   Floor         1948 non-null   float64\n",
      " 9   Outer         1927 non-null   float64\n",
      " 10  Elevator      1956 non-null   float64\n",
      " 11  Penthouse     2089 non-null   int64  \n",
      " 12  Cottage       2089 non-null   int64  \n",
      " 13  Duplex        2089 non-null   int64  \n",
      " 14  Semidetached  2089 non-null   int64  \n",
      "dtypes: float64(4), int64(7), object(4)\n",
      "memory usage: 244.9+ KB\n"
     ]
    }
   ],
   "source": [
    "df.info()"
   ]
  },
  {
   "cell_type": "code",
   "execution_count": 169,
   "id": "42bd53f1-41c6-4fff-bb4f-53713654753d",
   "metadata": {},
   "outputs": [
    {
     "data": {
      "text/plain": [
       "Id                 0\n",
       "District           0\n",
       "Address            0\n",
       "Number          1342\n",
       "Area               4\n",
       "Rent               0\n",
       "Bedrooms          89\n",
       "Sq.Mt              0\n",
       "Floor            141\n",
       "Outer            162\n",
       "Elevator         133\n",
       "Penthouse          0\n",
       "Cottage            0\n",
       "Duplex             0\n",
       "Semidetached       0\n",
       "dtype: int64"
      ]
     },
     "execution_count": 169,
     "metadata": {},
     "output_type": "execute_result"
    }
   ],
   "source": [
    "df.isna().sum()"
   ]
  },
  {
   "cell_type": "code",
   "execution_count": 170,
   "id": "40b9cfb8-5752-43b0-b07c-b441bd2f5f84",
   "metadata": {},
   "outputs": [
    {
     "data": {
      "text/html": [
       "<div>\n",
       "<style scoped>\n",
       "    .dataframe tbody tr th:only-of-type {\n",
       "        vertical-align: middle;\n",
       "    }\n",
       "\n",
       "    .dataframe tbody tr th {\n",
       "        vertical-align: top;\n",
       "    }\n",
       "\n",
       "    .dataframe thead th {\n",
       "        text-align: right;\n",
       "    }\n",
       "</style>\n",
       "<table border=\"1\" class=\"dataframe\">\n",
       "  <thead>\n",
       "    <tr style=\"text-align: right;\">\n",
       "      <th></th>\n",
       "      <th>Id</th>\n",
       "      <th>District</th>\n",
       "      <th>Address</th>\n",
       "      <th>Number</th>\n",
       "      <th>Area</th>\n",
       "      <th>Rent</th>\n",
       "      <th>Bedrooms</th>\n",
       "      <th>Sq.Mt</th>\n",
       "      <th>Floor</th>\n",
       "      <th>Outer</th>\n",
       "      <th>Elevator</th>\n",
       "      <th>Penthouse</th>\n",
       "      <th>Cottage</th>\n",
       "      <th>Duplex</th>\n",
       "      <th>Semidetached</th>\n",
       "    </tr>\n",
       "  </thead>\n",
       "  <tbody>\n",
       "    <tr>\n",
       "      <th>1974</th>\n",
       "      <td>2068</td>\n",
       "      <td>Tetuán</td>\n",
       "      <td>Piso en calle Salamanca</td>\n",
       "      <td>0</td>\n",
       "      <td>Cuatro Caminos</td>\n",
       "      <td>800</td>\n",
       "      <td>1.0</td>\n",
       "      <td>60</td>\n",
       "      <td>2.0</td>\n",
       "      <td>1.0</td>\n",
       "      <td>1.0</td>\n",
       "      <td>0</td>\n",
       "      <td>0</td>\n",
       "      <td>0</td>\n",
       "      <td>0</td>\n",
       "    </tr>\n",
       "    <tr>\n",
       "      <th>1131</th>\n",
       "      <td>1182</td>\n",
       "      <td>Centro</td>\n",
       "      <td>Piso en plaza santiago</td>\n",
       "      <td>14</td>\n",
       "      <td>Palacio</td>\n",
       "      <td>3105</td>\n",
       "      <td>2.0</td>\n",
       "      <td>156</td>\n",
       "      <td>4.0</td>\n",
       "      <td>1.0</td>\n",
       "      <td>1.0</td>\n",
       "      <td>0</td>\n",
       "      <td>0</td>\n",
       "      <td>0</td>\n",
       "      <td>0</td>\n",
       "    </tr>\n",
       "    <tr>\n",
       "      <th>532</th>\n",
       "      <td>560</td>\n",
       "      <td>Moratalaz</td>\n",
       "      <td>Piso en Marroquina</td>\n",
       "      <td>0</td>\n",
       "      <td>Marroquina</td>\n",
       "      <td>900</td>\n",
       "      <td>3.0</td>\n",
       "      <td>85</td>\n",
       "      <td>4.0</td>\n",
       "      <td>1.0</td>\n",
       "      <td>1.0</td>\n",
       "      <td>0</td>\n",
       "      <td>0</td>\n",
       "      <td>0</td>\n",
       "      <td>0</td>\n",
       "    </tr>\n",
       "    <tr>\n",
       "      <th>973</th>\n",
       "      <td>1021</td>\n",
       "      <td>Salamanca</td>\n",
       "      <td>Piso en Recoletos</td>\n",
       "      <td>0</td>\n",
       "      <td>Recoletos</td>\n",
       "      <td>3500</td>\n",
       "      <td>3.0</td>\n",
       "      <td>120</td>\n",
       "      <td>4.0</td>\n",
       "      <td>1.0</td>\n",
       "      <td>1.0</td>\n",
       "      <td>0</td>\n",
       "      <td>0</td>\n",
       "      <td>0</td>\n",
       "      <td>0</td>\n",
       "    </tr>\n",
       "    <tr>\n",
       "      <th>1457</th>\n",
       "      <td>1525</td>\n",
       "      <td>Chamartín</td>\n",
       "      <td>Piso en calle De Mauricio Legendre</td>\n",
       "      <td>0</td>\n",
       "      <td>Castilla</td>\n",
       "      <td>1700</td>\n",
       "      <td>2.0</td>\n",
       "      <td>110</td>\n",
       "      <td>7.0</td>\n",
       "      <td>1.0</td>\n",
       "      <td>1.0</td>\n",
       "      <td>0</td>\n",
       "      <td>0</td>\n",
       "      <td>0</td>\n",
       "      <td>0</td>\n",
       "    </tr>\n",
       "  </tbody>\n",
       "</table>\n",
       "</div>"
      ],
      "text/plain": [
       "        Id   District                             Address Number  \\\n",
       "1974  2068     Tetuán             Piso en calle Salamanca      0   \n",
       "1131  1182     Centro              Piso en plaza santiago     14   \n",
       "532    560  Moratalaz                  Piso en Marroquina      0   \n",
       "973   1021  Salamanca                   Piso en Recoletos      0   \n",
       "1457  1525  Chamartín  Piso en calle De Mauricio Legendre      0   \n",
       "\n",
       "                Area  Rent  Bedrooms  Sq.Mt  Floor  Outer  Elevator  \\\n",
       "1974  Cuatro Caminos   800       1.0     60    2.0    1.0       1.0   \n",
       "1131         Palacio  3105       2.0    156    4.0    1.0       1.0   \n",
       "532       Marroquina   900       3.0     85    4.0    1.0       1.0   \n",
       "973        Recoletos  3500       3.0    120    4.0    1.0       1.0   \n",
       "1457        Castilla  1700       2.0    110    7.0    1.0       1.0   \n",
       "\n",
       "      Penthouse  Cottage  Duplex  Semidetached  \n",
       "1974          0        0       0             0  \n",
       "1131          0        0       0             0  \n",
       "532           0        0       0             0  \n",
       "973           0        0       0             0  \n",
       "1457          0        0       0             0  "
      ]
     },
     "execution_count": 170,
     "metadata": {},
     "output_type": "execute_result"
    }
   ],
   "source": [
    "df = df.fillna(0)\n",
    "df.sample(5)"
   ]
  },
  {
   "cell_type": "markdown",
   "id": "955e73ea-565e-45e1-acc5-16475d123dee",
   "metadata": {},
   "source": [
    "## Data Preprocessing"
   ]
  },
  {
   "cell_type": "code",
   "execution_count": 184,
   "id": "34e54cab-e1af-4f4f-a80c-618a8746ae89",
   "metadata": {},
   "outputs": [
    {
     "data": {
      "text/plain": [
       "array([False,  True])"
      ]
     },
     "execution_count": 184,
     "metadata": {},
     "output_type": "execute_result"
    }
   ],
   "source": [
    "df['Type'] = df['Address'].str.split(r'\\s+').str[0]\n",
    "\n",
    "df['calle'] = df['Address'].str.split(r'\\s+').str[2] == 'calle'\n",
    "df['avenida'] = df['Address'].str.split(r'\\s+').str[2] == 'avenida'\n",
    "df['paseo'] = df['Address'].str.split(r'\\s+').str[2] == 'paseo'\n",
    "df['plaza'] = df['Address'].str.split(r'\\s+').str[2] == 'plaza'"
   ]
  },
  {
   "cell_type": "code",
   "execution_count": 172,
   "id": "4a7dbb7a-9974-4442-8dec-a5b7eaac32b9",
   "metadata": {},
   "outputs": [],
   "source": [
    "df = pd.get_dummies(df, columns=['District'], drop_first=True)\n",
    "df = pd.get_dummies(df, columns=['Area'], drop_first=True)\n",
    "df = pd.get_dummies(df, columns=['Type'], drop_first=False)"
   ]
  },
  {
   "cell_type": "code",
   "execution_count": 173,
   "id": "c30a5f73-e51a-402c-9be9-ccf9b1faf700",
   "metadata": {},
   "outputs": [
    {
     "data": {
      "text/plain": [
       "(2089, 183)"
      ]
     },
     "execution_count": 173,
     "metadata": {},
     "output_type": "execute_result"
    }
   ],
   "source": [
    "df.shape"
   ]
  },
  {
   "cell_type": "code",
   "execution_count": 174,
   "id": "86b51a92-1fab-4b67-8e66-0ed9c3d84c86",
   "metadata": {},
   "outputs": [
    {
     "data": {
      "text/html": [
       "<div>\n",
       "<style scoped>\n",
       "    .dataframe tbody tr th:only-of-type {\n",
       "        vertical-align: middle;\n",
       "    }\n",
       "\n",
       "    .dataframe tbody tr th {\n",
       "        vertical-align: top;\n",
       "    }\n",
       "\n",
       "    .dataframe thead th {\n",
       "        text-align: right;\n",
       "    }\n",
       "</style>\n",
       "<table border=\"1\" class=\"dataframe\">\n",
       "  <thead>\n",
       "    <tr style=\"text-align: right;\">\n",
       "      <th></th>\n",
       "      <th>Id</th>\n",
       "      <th>Address</th>\n",
       "      <th>Number</th>\n",
       "      <th>Rent</th>\n",
       "      <th>Bedrooms</th>\n",
       "      <th>Sq.Mt</th>\n",
       "      <th>Floor</th>\n",
       "      <th>Outer</th>\n",
       "      <th>Elevator</th>\n",
       "      <th>Penthouse</th>\n",
       "      <th>...</th>\n",
       "      <th>Area_en Trafalgar</th>\n",
       "      <th>Area_plaza de España</th>\n",
       "      <th>Area_Águilas</th>\n",
       "      <th>Type_Casa</th>\n",
       "      <th>Type_Caserón</th>\n",
       "      <th>Type_Chalet</th>\n",
       "      <th>Type_Dúplex</th>\n",
       "      <th>Type_Estudio</th>\n",
       "      <th>Type_Piso</th>\n",
       "      <th>Type_Ático</th>\n",
       "    </tr>\n",
       "  </thead>\n",
       "  <tbody>\n",
       "    <tr>\n",
       "      <th>985</th>\n",
       "      <td>1033</td>\n",
       "      <td>Piso en paseo de los Pontones</td>\n",
       "      <td>0</td>\n",
       "      <td>1350</td>\n",
       "      <td>2.0</td>\n",
       "      <td>100</td>\n",
       "      <td>4.0</td>\n",
       "      <td>1.0</td>\n",
       "      <td>1.0</td>\n",
       "      <td>0</td>\n",
       "      <td>...</td>\n",
       "      <td>False</td>\n",
       "      <td>False</td>\n",
       "      <td>False</td>\n",
       "      <td>False</td>\n",
       "      <td>False</td>\n",
       "      <td>False</td>\n",
       "      <td>False</td>\n",
       "      <td>False</td>\n",
       "      <td>True</td>\n",
       "      <td>False</td>\n",
       "    </tr>\n",
       "    <tr>\n",
       "      <th>870</th>\n",
       "      <td>916</td>\n",
       "      <td>Piso en calle de Padilla</td>\n",
       "      <td>18</td>\n",
       "      <td>4725</td>\n",
       "      <td>3.0</td>\n",
       "      <td>170</td>\n",
       "      <td>1.0</td>\n",
       "      <td>1.0</td>\n",
       "      <td>1.0</td>\n",
       "      <td>0</td>\n",
       "      <td>...</td>\n",
       "      <td>False</td>\n",
       "      <td>False</td>\n",
       "      <td>False</td>\n",
       "      <td>False</td>\n",
       "      <td>False</td>\n",
       "      <td>False</td>\n",
       "      <td>False</td>\n",
       "      <td>False</td>\n",
       "      <td>True</td>\n",
       "      <td>False</td>\n",
       "    </tr>\n",
       "    <tr>\n",
       "      <th>2011</th>\n",
       "      <td>2107</td>\n",
       "      <td>Piso en calle de Eugenio Caxes</td>\n",
       "      <td>4</td>\n",
       "      <td>1280</td>\n",
       "      <td>3.0</td>\n",
       "      <td>90</td>\n",
       "      <td>2.0</td>\n",
       "      <td>1.0</td>\n",
       "      <td>1.0</td>\n",
       "      <td>0</td>\n",
       "      <td>...</td>\n",
       "      <td>False</td>\n",
       "      <td>False</td>\n",
       "      <td>False</td>\n",
       "      <td>False</td>\n",
       "      <td>False</td>\n",
       "      <td>False</td>\n",
       "      <td>False</td>\n",
       "      <td>False</td>\n",
       "      <td>True</td>\n",
       "      <td>False</td>\n",
       "    </tr>\n",
       "    <tr>\n",
       "      <th>1199</th>\n",
       "      <td>1253</td>\n",
       "      <td>Piso en calle de hortaleza</td>\n",
       "      <td>96</td>\n",
       "      <td>675</td>\n",
       "      <td>1.0</td>\n",
       "      <td>40</td>\n",
       "      <td>1.0</td>\n",
       "      <td>0.0</td>\n",
       "      <td>1.0</td>\n",
       "      <td>0</td>\n",
       "      <td>...</td>\n",
       "      <td>False</td>\n",
       "      <td>False</td>\n",
       "      <td>False</td>\n",
       "      <td>False</td>\n",
       "      <td>False</td>\n",
       "      <td>False</td>\n",
       "      <td>False</td>\n",
       "      <td>False</td>\n",
       "      <td>True</td>\n",
       "      <td>False</td>\n",
       "    </tr>\n",
       "    <tr>\n",
       "      <th>312</th>\n",
       "      <td>328</td>\n",
       "      <td>Piso en avenida Machupichu</td>\n",
       "      <td>0</td>\n",
       "      <td>850</td>\n",
       "      <td>1.0</td>\n",
       "      <td>44</td>\n",
       "      <td>3.0</td>\n",
       "      <td>1.0</td>\n",
       "      <td>1.0</td>\n",
       "      <td>0</td>\n",
       "      <td>...</td>\n",
       "      <td>False</td>\n",
       "      <td>False</td>\n",
       "      <td>False</td>\n",
       "      <td>False</td>\n",
       "      <td>False</td>\n",
       "      <td>False</td>\n",
       "      <td>False</td>\n",
       "      <td>False</td>\n",
       "      <td>True</td>\n",
       "      <td>False</td>\n",
       "    </tr>\n",
       "  </tbody>\n",
       "</table>\n",
       "<p>5 rows × 183 columns</p>\n",
       "</div>"
      ],
      "text/plain": [
       "        Id                         Address Number  Rent  Bedrooms  Sq.Mt  \\\n",
       "985   1033   Piso en paseo de los Pontones      0  1350       2.0    100   \n",
       "870    916        Piso en calle de Padilla     18  4725       3.0    170   \n",
       "2011  2107  Piso en calle de Eugenio Caxes      4  1280       3.0     90   \n",
       "1199  1253      Piso en calle de hortaleza     96   675       1.0     40   \n",
       "312    328      Piso en avenida Machupichu      0   850       1.0     44   \n",
       "\n",
       "      Floor  Outer  Elevator  Penthouse  ...  Area_en Trafalgar  \\\n",
       "985     4.0    1.0       1.0          0  ...              False   \n",
       "870     1.0    1.0       1.0          0  ...              False   \n",
       "2011    2.0    1.0       1.0          0  ...              False   \n",
       "1199    1.0    0.0       1.0          0  ...              False   \n",
       "312     3.0    1.0       1.0          0  ...              False   \n",
       "\n",
       "      Area_plaza de España  Area_Águilas  Type_Casa  Type_Caserón  \\\n",
       "985                  False          False      False         False   \n",
       "870                  False          False      False         False   \n",
       "2011                 False          False      False         False   \n",
       "1199                 False          False      False         False   \n",
       "312                  False          False      False         False   \n",
       "\n",
       "      Type_Chalet  Type_Dúplex  Type_Estudio  Type_Piso  Type_Ático  \n",
       "985         False        False         False       True       False  \n",
       "870         False        False         False       True       False  \n",
       "2011        False        False         False       True       False  \n",
       "1199        False        False         False       True       False  \n",
       "312         False        False         False       True       False  \n",
       "\n",
       "[5 rows x 183 columns]"
      ]
     },
     "execution_count": 174,
     "metadata": {},
     "output_type": "execute_result"
    }
   ],
   "source": [
    "df.sample(5)"
   ]
  },
  {
   "cell_type": "markdown",
   "id": "d4dfe9af-8ed0-472c-bb4e-4525e0388b07",
   "metadata": {},
   "source": [
    "##### Feature Engineering"
   ]
  },
  {
   "cell_type": "code",
   "execution_count": 175,
   "id": "76524221-2426-4bc3-afda-7e2a1dc72427",
   "metadata": {},
   "outputs": [],
   "source": [
    "# To avoid corr between bedrooms and sqmts\n",
    "df['sqm_per_bedroom'] = df.apply(lambda row: row['Sq.Mt'] / row['Bedrooms'] if row['Bedrooms'] != 0 else 0, axis=1)\n",
    "\n",
    "# Space to create more features if needed\n"
   ]
  },
  {
   "cell_type": "markdown",
   "id": "146bcfb3-d813-4c26-93db-89848bd817ac",
   "metadata": {},
   "source": [
    "##### Splitting the data"
   ]
  },
  {
   "cell_type": "code",
   "execution_count": 176,
   "id": "fa63ef4c-6717-4411-b6a7-41a024014c8a",
   "metadata": {},
   "outputs": [],
   "source": [
    "from sklearn.model_selection import train_test_split\n",
    "from sklearn.compose import ColumnTransformer\n",
    "from sklearn.preprocessing import StandardScaler\n",
    "\n",
    "X = df.drop(['Id', 'Address', 'Number', 'Rent',\n",
    "            'District_Barajas', 'District_Villa de Vallecas', # Dropping some districts to avoid correlation with areas e.g. Retiro and Ibiza\n",
    "            'District_San Blás', 'District_Retiro',\n",
    "            'Sq.Mt', 'Type_Ático', 'Type_Dúplex', 'Type_Chalet' ], axis=1)\n",
    "\n",
    "\n",
    "y = df['Rent']\n",
    "X_train, X_test, y_train, y_test = train_test_split(X, y, test_size=0.2, random_state=42)\n",
    "\n",
    "num_cols = ['sqm_per_bedroom', 'Bedrooms', 'Floor', 'Outer', 'Elevator', 'Penthouse']\n",
    "ct = ColumnTransformer(\n",
    "    transformers=[('num', StandardScaler(), num_cols)],\n",
    "    remainder='passthrough'\n",
    ")\n",
    "X_train_scaled = ct.fit_transform(X_train)\n",
    "X_test_scaled = ct.transform(X_test)"
   ]
  },
  {
   "cell_type": "code",
   "execution_count": 177,
   "id": "25b0908a-4d94-450a-94ca-37888015afd3",
   "metadata": {},
   "outputs": [
    {
     "data": {
      "text/html": [
       "<div>\n",
       "<style scoped>\n",
       "    .dataframe tbody tr th:only-of-type {\n",
       "        vertical-align: middle;\n",
       "    }\n",
       "\n",
       "    .dataframe tbody tr th {\n",
       "        vertical-align: top;\n",
       "    }\n",
       "\n",
       "    .dataframe thead th {\n",
       "        text-align: right;\n",
       "    }\n",
       "</style>\n",
       "<table border=\"1\" class=\"dataframe\">\n",
       "  <thead>\n",
       "    <tr style=\"text-align: right;\">\n",
       "      <th></th>\n",
       "      <th>Variable_1</th>\n",
       "      <th>Variable_2</th>\n",
       "      <th>Correlation</th>\n",
       "    </tr>\n",
       "  </thead>\n",
       "  <tbody>\n",
       "  </tbody>\n",
       "</table>\n",
       "</div>"
      ],
      "text/plain": [
       "Empty DataFrame\n",
       "Columns: [Variable_1, Variable_2, Correlation]\n",
       "Index: []"
      ]
     },
     "execution_count": 177,
     "metadata": {},
     "output_type": "execute_result"
    }
   ],
   "source": [
    "threshold = 0.66\n",
    "corr_matrix = X.corr()\n",
    "\n",
    "# Get pairs\n",
    "corr_pairs = (\n",
    "    corr_matrix\n",
    "    .abs()\n",
    "    .where(lambda x: x > threshold) # Filter by threshold\n",
    "    .stack()                        # Convert to Series with MultiIndex\n",
    "    .reset_index()\n",
    ")\n",
    "\n",
    "corr_pairs.columns = ['Variable_1', 'Variable_2', 'Correlation']\n",
    "\n",
    "# Remove self-correlations and duplicate pairs\n",
    "corr_pairs = corr_pairs[corr_pairs['Variable_1'] != corr_pairs['Variable_2']]\n",
    "corr_pairs = corr_pairs[corr_pairs['Variable_1'] < corr_pairs['Variable_2']]  # Keep only one of each pair\n",
    "\n",
    "# Sort by absolute correlation\n",
    "corr_pairs = corr_pairs.sort_values('Correlation', ascending=False).reset_index(drop=True)\n",
    "corr_pairs"
   ]
  },
  {
   "cell_type": "markdown",
   "id": "f3ee7c47-8211-4639-89a5-0b2f275a4af4",
   "metadata": {},
   "source": [
    "## Segmentation"
   ]
  },
  {
   "cell_type": "code",
   "execution_count": 191,
   "id": "d7a45772-0ef8-4282-bc45-0e4c953c3849",
   "metadata": {},
   "outputs": [
    {
     "name": "stderr",
     "output_type": "stream",
     "text": [
      "C:\\ProgramData\\anaconda3\\Lib\\site-packages\\sklearn\\cluster\\_kmeans.py:1429: UserWarning: KMeans is known to have a memory leak on Windows with MKL, when there are less chunks than available threads. You can avoid it by setting the environment variable OMP_NUM_THREADS=7.\n",
      "  warnings.warn(\n"
     ]
    },
    {
     "data": {
      "text/plain": [
       "array([0, 2, 1])"
      ]
     },
     "execution_count": 191,
     "metadata": {},
     "output_type": "execute_result"
    }
   ],
   "source": [
    "from sklearn.cluster import KMeans\n",
    "\n",
    "# Fit KMeans\n",
    "n_clusters = 3\n",
    "kmeans = KMeans(n_clusters=n_clusters, random_state=42)\n",
    "clusters = kmeans.fit_predict(X_train_scaled)\n",
    "\n",
    "X_train['cluster'] = clusters\n",
    "X_train['cluster'].unique()"
   ]
  },
  {
   "cell_type": "code",
   "execution_count": 192,
   "id": "130d10dd-abba-4916-95f5-97cdab0f74e5",
   "metadata": {},
   "outputs": [
    {
     "name": "stderr",
     "output_type": "stream",
     "text": [
      "C:\\ProgramData\\anaconda3\\Lib\\site-packages\\sklearn\\cluster\\_kmeans.py:1429: UserWarning: KMeans is known to have a memory leak on Windows with MKL, when there are less chunks than available threads. You can avoid it by setting the environment variable OMP_NUM_THREADS=7.\n",
      "  warnings.warn(\n",
      "C:\\ProgramData\\anaconda3\\Lib\\site-packages\\sklearn\\cluster\\_kmeans.py:1429: UserWarning: KMeans is known to have a memory leak on Windows with MKL, when there are less chunks than available threads. You can avoid it by setting the environment variable OMP_NUM_THREADS=7.\n",
      "  warnings.warn(\n",
      "C:\\ProgramData\\anaconda3\\Lib\\site-packages\\sklearn\\cluster\\_kmeans.py:1429: UserWarning: KMeans is known to have a memory leak on Windows with MKL, when there are less chunks than available threads. You can avoid it by setting the environment variable OMP_NUM_THREADS=7.\n",
      "  warnings.warn(\n",
      "C:\\ProgramData\\anaconda3\\Lib\\site-packages\\sklearn\\cluster\\_kmeans.py:1429: UserWarning: KMeans is known to have a memory leak on Windows with MKL, when there are less chunks than available threads. You can avoid it by setting the environment variable OMP_NUM_THREADS=7.\n",
      "  warnings.warn(\n",
      "C:\\ProgramData\\anaconda3\\Lib\\site-packages\\sklearn\\cluster\\_kmeans.py:1429: UserWarning: KMeans is known to have a memory leak on Windows with MKL, when there are less chunks than available threads. You can avoid it by setting the environment variable OMP_NUM_THREADS=7.\n",
      "  warnings.warn(\n",
      "C:\\ProgramData\\anaconda3\\Lib\\site-packages\\sklearn\\cluster\\_kmeans.py:1429: UserWarning: KMeans is known to have a memory leak on Windows with MKL, when there are less chunks than available threads. You can avoid it by setting the environment variable OMP_NUM_THREADS=7.\n",
      "  warnings.warn(\n",
      "C:\\ProgramData\\anaconda3\\Lib\\site-packages\\sklearn\\cluster\\_kmeans.py:1429: UserWarning: KMeans is known to have a memory leak on Windows with MKL, when there are less chunks than available threads. You can avoid it by setting the environment variable OMP_NUM_THREADS=7.\n",
      "  warnings.warn(\n",
      "C:\\ProgramData\\anaconda3\\Lib\\site-packages\\sklearn\\cluster\\_kmeans.py:1429: UserWarning: KMeans is known to have a memory leak on Windows with MKL, when there are less chunks than available threads. You can avoid it by setting the environment variable OMP_NUM_THREADS=7.\n",
      "  warnings.warn(\n",
      "C:\\ProgramData\\anaconda3\\Lib\\site-packages\\sklearn\\cluster\\_kmeans.py:1429: UserWarning: KMeans is known to have a memory leak on Windows with MKL, when there are less chunks than available threads. You can avoid it by setting the environment variable OMP_NUM_THREADS=7.\n",
      "  warnings.warn(\n",
      "C:\\ProgramData\\anaconda3\\Lib\\site-packages\\sklearn\\cluster\\_kmeans.py:1429: UserWarning: KMeans is known to have a memory leak on Windows with MKL, when there are less chunks than available threads. You can avoid it by setting the environment variable OMP_NUM_THREADS=7.\n",
      "  warnings.warn(\n"
     ]
    },
    {
     "data": {
      "image/png": "[encoded data removed]",
      "text/plain": [
       "<Figure size 800x400 with 1 Axes>"
      ]
     },
     "metadata": {},
     "output_type": "display_data"
    }
   ],
   "source": [
    "import matplotlib.pyplot as plt\n",
    "from sklearn.cluster import KMeans\n",
    "\n",
    "inertia = []\n",
    "K = range(1, 11)\n",
    "for k in K:\n",
    "    kmeans = KMeans(n_clusters=k, random_state=42)\n",
    "    kmeans.fit(X_train_scaled)\n",
    "    inertia.append(kmeans.inertia_)\n",
    "\n",
    "plt.figure(figsize=(8,4))\n",
    "plt.plot(K, inertia, marker='o')\n",
    "plt.xlabel('Number of clusters (k)')\n",
    "plt.ylabel('Inertia')\n",
    "plt.title('Elbow Method for # of k')\n",
    "plt.show()"
   ]
  },
  {
   "cell_type": "code",
   "execution_count": 193,
   "id": "6193ba50-8d9a-4755-af66-2dee73d4dc31",
   "metadata": {},
   "outputs": [
    {
     "name": "stdout",
     "output_type": "stream",
     "text": [
      "Silhouette score for k=3: 0.314\n"
     ]
    }
   ],
   "source": [
    "from sklearn.metrics import silhouette_score\n",
    "\n",
    "# Use your fitted clusters\n",
    "score = silhouette_score(X_train_scaled, clusters)\n",
    "print(f\"Silhouette score for k={n_clusters}: {score:.3f}\")"
   ]
  },
  {
   "cell_type": "code",
   "execution_count": null,
   "id": "a6ed3963-326d-427d-9872-046903b09281",
   "metadata": {},
   "outputs": [],
   "source": []
  },
  {
   "cell_type": "code",
   "execution_count": null,
   "id": "558d1a45-19e4-4f55-8dbd-898454768269",
   "metadata": {},
   "outputs": [],
   "source": []
  }
 ],
 "metadata": {
  "kernelspec": {
   "display_name": "Python 3 (ipykernel)",
   "language": "python",
   "name": "python3"
  },
  "language_info": {
   "codemirror_mode": {
    "name": "ipython",
    "version": 3
   },
   "file_extension": ".py",
   "mimetype": "text/x-python",
   "name": "python",
   "nbconvert_exporter": "python",
   "pygments_lexer": "ipython3",
   "version": "3.12.7"
  }
 },
 "nbformat": 4,
 "nbformat_minor": 5
}
