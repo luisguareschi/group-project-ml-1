{
 "cells": [
  {
   "cell_type": "markdown",
   "id": "cf84bb14",
   "metadata": {},
   "source": [
    "## Read the data"
   ]
  },
  {
   "cell_type": "code",
   "execution_count": 73,
   "id": "aaa55545",
   "metadata": {},
   "outputs": [
    {
     "data": {
      "text/html": [
       "<div>\n",
       "<style scoped>\n",
       "    .dataframe tbody tr th:only-of-type {\n",
       "        vertical-align: middle;\n",
       "    }\n",
       "\n",
       "    .dataframe tbody tr th {\n",
       "        vertical-align: top;\n",
       "    }\n",
       "\n",
       "    .dataframe thead th {\n",
       "        text-align: right;\n",
       "    }\n",
       "</style>\n",
       "<table border=\"1\" class=\"dataframe\">\n",
       "  <thead>\n",
       "    <tr style=\"text-align: right;\">\n",
       "      <th></th>\n",
       "      <th>Id</th>\n",
       "      <th>District</th>\n",
       "      <th>Address</th>\n",
       "      <th>Number</th>\n",
       "      <th>Area</th>\n",
       "      <th>Rent</th>\n",
       "      <th>Bedrooms</th>\n",
       "      <th>Sq.Mt</th>\n",
       "      <th>Floor</th>\n",
       "      <th>Outer</th>\n",
       "      <th>Elevator</th>\n",
       "      <th>Penthouse</th>\n",
       "      <th>Cottage</th>\n",
       "      <th>Duplex</th>\n",
       "      <th>Semidetached</th>\n",
       "      <th>Cluster</th>\n",
       "    </tr>\n",
       "  </thead>\n",
       "  <tbody>\n",
       "    <tr>\n",
       "      <th>5</th>\n",
       "      <td>6</td>\n",
       "      <td>Ciudad Lineal</td>\n",
       "      <td>Ático en calle José Silva</td>\n",
       "      <td>NaN</td>\n",
       "      <td>San Juan Bautista</td>\n",
       "      <td>1850</td>\n",
       "      <td>3.0</td>\n",
       "      <td>101</td>\n",
       "      <td>5.0</td>\n",
       "      <td>1.0</td>\n",
       "      <td>1.0</td>\n",
       "      <td>1</td>\n",
       "      <td>0</td>\n",
       "      <td>0</td>\n",
       "      <td>0</td>\n",
       "      <td>3</td>\n",
       "    </tr>\n",
       "    <tr>\n",
       "      <th>13</th>\n",
       "      <td>16</td>\n",
       "      <td>Ciudad Lineal</td>\n",
       "      <td>Ático en calle natalia de silva</td>\n",
       "      <td>1</td>\n",
       "      <td>Concepción</td>\n",
       "      <td>990</td>\n",
       "      <td>2.0</td>\n",
       "      <td>70</td>\n",
       "      <td>3.0</td>\n",
       "      <td>1.0</td>\n",
       "      <td>1.0</td>\n",
       "      <td>1</td>\n",
       "      <td>0</td>\n",
       "      <td>0</td>\n",
       "      <td>0</td>\n",
       "      <td>3</td>\n",
       "    </tr>\n",
       "    <tr>\n",
       "      <th>22</th>\n",
       "      <td>25</td>\n",
       "      <td>Ciudad Lineal</td>\n",
       "      <td>Ático en calle josé silva</td>\n",
       "      <td>19</td>\n",
       "      <td>San Juan Bautista</td>\n",
       "      <td>1650</td>\n",
       "      <td>3.0</td>\n",
       "      <td>101</td>\n",
       "      <td>5.0</td>\n",
       "      <td>1.0</td>\n",
       "      <td>1.0</td>\n",
       "      <td>1</td>\n",
       "      <td>0</td>\n",
       "      <td>0</td>\n",
       "      <td>0</td>\n",
       "      <td>3</td>\n",
       "    </tr>\n",
       "    <tr>\n",
       "      <th>34</th>\n",
       "      <td>39</td>\n",
       "      <td>Ciudad Lineal</td>\n",
       "      <td>Ático en calle vicente muzas</td>\n",
       "      <td>NaN</td>\n",
       "      <td>Colina</td>\n",
       "      <td>800</td>\n",
       "      <td>2.0</td>\n",
       "      <td>70</td>\n",
       "      <td>5.0</td>\n",
       "      <td>1.0</td>\n",
       "      <td>1.0</td>\n",
       "      <td>1</td>\n",
       "      <td>0</td>\n",
       "      <td>0</td>\n",
       "      <td>0</td>\n",
       "      <td>3</td>\n",
       "    </tr>\n",
       "    <tr>\n",
       "      <th>35</th>\n",
       "      <td>40</td>\n",
       "      <td>Ciudad Lineal</td>\n",
       "      <td>Ático en Arturo Soria</td>\n",
       "      <td>NaN</td>\n",
       "      <td>Concepción</td>\n",
       "      <td>3000</td>\n",
       "      <td>5.0</td>\n",
       "      <td>400</td>\n",
       "      <td>4.0</td>\n",
       "      <td>1.0</td>\n",
       "      <td>1.0</td>\n",
       "      <td>1</td>\n",
       "      <td>0</td>\n",
       "      <td>0</td>\n",
       "      <td>0</td>\n",
       "      <td>3</td>\n",
       "    </tr>\n",
       "  </tbody>\n",
       "</table>\n",
       "</div>"
      ],
      "text/plain": [
       "    Id       District                          Address Number  \\\n",
       "5    6  Ciudad Lineal        Ático en calle José Silva    NaN   \n",
       "13  16  Ciudad Lineal  Ático en calle natalia de silva      1   \n",
       "22  25  Ciudad Lineal        Ático en calle josé silva     19   \n",
       "34  39  Ciudad Lineal     Ático en calle vicente muzas    NaN   \n",
       "35  40  Ciudad Lineal            Ático en Arturo Soria    NaN   \n",
       "\n",
       "                 Area  Rent  Bedrooms  Sq.Mt  Floor  Outer  Elevator  \\\n",
       "5   San Juan Bautista  1850       3.0    101    5.0    1.0       1.0   \n",
       "13         Concepción   990       2.0     70    3.0    1.0       1.0   \n",
       "22  San Juan Bautista  1650       3.0    101    5.0    1.0       1.0   \n",
       "34             Colina   800       2.0     70    5.0    1.0       1.0   \n",
       "35         Concepción  3000       5.0    400    4.0    1.0       1.0   \n",
       "\n",
       "    Penthouse  Cottage  Duplex  Semidetached  Cluster  \n",
       "5           1        0       0             0        3  \n",
       "13          1        0       0             0        3  \n",
       "22          1        0       0             0        3  \n",
       "34          1        0       0             0        3  \n",
       "35          1        0       0             0        3  "
      ]
     },
     "execution_count": 73,
     "metadata": {},
     "output_type": "execute_result"
    }
   ],
   "source": [
    "import pandas as pd\n",
    "\n",
    "df = pd.read_csv('madrid_rent_data_clustered.csv')\n",
    "\n",
    "# Keep only Cluster N if specified\n",
    "CLUSTER_TO_ANALYZE: int | None = 3\n",
    "if CLUSTER_TO_ANALYZE is not None:\n",
    "    df = df[df['Cluster'] == CLUSTER_TO_ANALYZE]\n",
    "df_original = df.__deepcopy__()\n",
    "\n",
    "df.head()"
   ]
  },
  {
   "cell_type": "markdown",
   "id": "4a4d045e",
   "metadata": {},
   "source": [
    "## Remove unneeded columns"
   ]
  },
  {
   "cell_type": "code",
   "execution_count": 74,
   "id": "aec23531",
   "metadata": {},
   "outputs": [],
   "source": [
    "df = df.drop(columns=['Number', 'Id', 'Address', 'Area', 'District', 'Cluster'])"
   ]
  },
  {
   "cell_type": "markdown",
   "id": "52cf32ad",
   "metadata": {},
   "source": [
    "## Fill missing values"
   ]
  },
  {
   "cell_type": "code",
   "execution_count": 75,
   "id": "fef64159",
   "metadata": {},
   "outputs": [
    {
     "data": {
      "text/plain": [
       "Rent            0\n",
       "Bedrooms        3\n",
       "Sq.Mt           0\n",
       "Floor           0\n",
       "Outer           0\n",
       "Elevator        0\n",
       "Penthouse       0\n",
       "Cottage         0\n",
       "Duplex          0\n",
       "Semidetached    0\n",
       "dtype: int64"
      ]
     },
     "execution_count": 75,
     "metadata": {},
     "output_type": "execute_result"
    }
   ],
   "source": [
    "df.isnull().sum()"
   ]
  },
  {
   "cell_type": "code",
   "execution_count": 76,
   "id": "c524329c",
   "metadata": {},
   "outputs": [],
   "source": [
    "df['Bedrooms'] = df['Bedrooms'].fillna(df['Bedrooms'].mean())\n",
    "df['Floor'] = df['Floor'].fillna(0)\n",
    "df['Outer'] = df['Outer'].fillna(0.5)\n",
    "df['Elevator'] = df['Elevator'].fillna(0.5)"
   ]
  },
  {
   "cell_type": "code",
   "execution_count": 77,
   "id": "86bd3cd3",
   "metadata": {},
   "outputs": [
    {
     "data": {
      "text/plain": [
       "Rent            0\n",
       "Bedrooms        0\n",
       "Sq.Mt           0\n",
       "Floor           0\n",
       "Outer           0\n",
       "Elevator        0\n",
       "Penthouse       0\n",
       "Cottage         0\n",
       "Duplex          0\n",
       "Semidetached    0\n",
       "dtype: int64"
      ]
     },
     "execution_count": 77,
     "metadata": {},
     "output_type": "execute_result"
    }
   ],
   "source": [
    "df.isnull().sum()"
   ]
  },
  {
   "cell_type": "markdown",
   "id": "dbf623be",
   "metadata": {},
   "source": [
    "## Histogram of the target variable"
   ]
  },
  {
   "cell_type": "code",
   "execution_count": 78,
   "id": "95f7dd87",
   "metadata": {},
   "outputs": [
    {
     "data": {
      "text/plain": [
       "[Text(0.5, 1.0, 'Histogram of Rent variable')]"
      ]
     },
     "execution_count": 78,
     "metadata": {},
     "output_type": "execute_result"
    },
    {
     "data": {
      "image/png": "[encoded data removed]",
      "text/plain": [
       "<Figure size 640x480 with 1 Axes>"
      ]
     },
     "metadata": {},
     "output_type": "display_data"
    }
   ],
   "source": [
    "import seaborn as sns\n",
    "\n",
    "target = \"Rent\"\n",
    "sns.histplot(df[target]).set(title='Histogram of Rent variable')"
   ]
  },
  {
   "cell_type": "markdown",
   "id": "3c7812f0",
   "metadata": {},
   "source": [
    "## Split into train and test data"
   ]
  },
  {
   "cell_type": "code",
   "execution_count": 79,
   "id": "686172e1",
   "metadata": {},
   "outputs": [],
   "source": [
    "from sklearn.model_selection import train_test_split\n",
    "\n",
    "y = df.pop(\"Rent\")\n",
    "x = df\n",
    "\n",
    "x_train, x_test, y_train, y_test = train_test_split(x, y, test_size=0.2, random_state=42)"
   ]
  },
  {
   "cell_type": "markdown",
   "id": "5c7ccbf3",
   "metadata": {},
   "source": [
    "## Apply feature engineering"
   ]
  },
  {
   "cell_type": "code",
   "execution_count": 80,
   "id": "5193aa07",
   "metadata": {},
   "outputs": [],
   "source": [
    "def is_categorical(column):\n",
    "    return column.dtype == 'object' or column.dtype == 'category'\n",
    "\n",
    "def is_numerical(column):\n",
    "    return column.dtype == 'float64' or column.dtype == 'int64'"
   ]
  },
  {
   "cell_type": "code",
   "execution_count": 81,
   "id": "2d50002a",
   "metadata": {},
   "outputs": [
    {
     "name": "stdout",
     "output_type": "stream",
     "text": [
      "Categorical columns: []\n",
      "Numerical columns: ['Bedrooms', 'Sq.Mt', 'Floor']\n"
     ]
    }
   ],
   "source": [
    "# Find the categorical columns and numerical columns that we want to preprocess\n",
    "\n",
    "categorical_columns = [f for f in x.columns if is_categorical(x[f])]\n",
    "\n",
    "# We want to keep these numerical columns as they are\n",
    "whitelist_numerical_columns = ['Outer', 'Elevator', 'Penthouse', 'Cottage', 'Duplex', 'Semidetached']  \n",
    "\n",
    "numerical_columns = [f for f in x.columns if is_numerical(x[f]) and f not in whitelist_numerical_columns]\n",
    "\n",
    "print(f\"Categorical columns: {categorical_columns}\")\n",
    "print(f\"Numerical columns: {numerical_columns}\")"
   ]
  },
  {
   "cell_type": "code",
   "execution_count": 82,
   "id": "d8a21504",
   "metadata": {},
   "outputs": [],
   "source": [
    "from sklearn.pipeline import Pipeline\n",
    "from sklearn.impute import SimpleImputer\n",
    "from sklearn.preprocessing import OneHotEncoder, StandardScaler, MinMaxScaler\n",
    "from sklearn.compose import ColumnTransformer\n",
    "\n",
    "# Create pipeline for categorical variables \n",
    "categorical_pipeline = Pipeline([\n",
    "    ('encoder', OneHotEncoder(drop='first', sparse_output=False))\n",
    "])\n",
    "\n",
    "# Create pipeline for numerical variables\n",
    "numerical_pipeline = Pipeline([\n",
    "    ('scaler', StandardScaler())\n",
    "])\n",
    "\n",
    "# Combine both pipelines using ColumnTransformer\n",
    "preprocessor = ColumnTransformer(\n",
    "    [\n",
    "        ('categorical', categorical_pipeline, categorical_columns),\n",
    "        ('numerical', numerical_pipeline, numerical_columns)\n",
    "    ], \n",
    "    remainder=\"passthrough\"\n",
    ")"
   ]
  },
  {
   "cell_type": "code",
   "execution_count": 83,
   "id": "40d3edea",
   "metadata": {},
   "outputs": [],
   "source": [
    "x_train_preprocessed = preprocessor.fit_transform(x_train)\n",
    "x_test_preprocessed = preprocessor.transform(x_test)"
   ]
  },
  {
   "cell_type": "markdown",
   "id": "71b1ef7b",
   "metadata": {},
   "source": [
    "## Apply stepwise execution"
   ]
  },
  {
   "cell_type": "code",
   "execution_count": 84,
   "id": "45d6e783",
   "metadata": {},
   "outputs": [],
   "source": [
    "import statsmodels.api as sm                    # Statistical analysis\n",
    "\n",
    "\n",
    "# Stepwise function\n",
    "def stepwise_selection(X, y, \n",
    "                       initial_list=[], \n",
    "                       threshold_in=0.05, # 95% confidence level\n",
    "                       threshold_out = 0.1, # 90% confidence level - not the same to avoid infinite loops and give more stability\n",
    "                       verbose=True):\n",
    "    \"\"\" Perform a forward-backward feature selection \n",
    "    based on p-value from statsmodels.api.OLS\n",
    "    Arguments:\n",
    "        X - pandas.DataFrame with candidate features\n",
    "        y - list-like with the target\n",
    "        initial_list - list of features to start with (column names of X)\n",
    "        threshold_in - include a feature if its p-value < threshold_in\n",
    "        threshold_out - exclude a feature if its p-value > threshold_out\n",
    "        verbose - whether to print the sequence of inclusions and exclusions\n",
    "    Returns: list of selected features \n",
    "    Always set threshold_in < threshold_out to avoid infinite looping.\n",
    "    \"\"\"\n",
    "    included = list(initial_list)\n",
    "    while True:\n",
    "        changed=False\n",
    "        # forward step\n",
    "        excluded = list(set(X.columns)-set(included))\n",
    "        new_pval = pd.Series(index=excluded, dtype=float)\n",
    "        \n",
    "        for new_col in excluded:\n",
    "            model = sm.OLS(y, sm.add_constant(X[included+[new_col]])).fit()\n",
    "            new_pval[new_col] = model.pvalues[new_col]\n",
    "\n",
    "        if not new_pval.empty:\n",
    "            best_pval = new_pval.min()\n",
    "            if best_pval < threshold_in:\n",
    "                best_feature = new_pval.idxmin()\n",
    "                included.append(best_feature)\n",
    "                changed = True\n",
    "                if verbose:\n",
    "                    print(f\"Add  {best_feature:30} with p-value {best_pval:.4g}\")\n",
    "                    \n",
    "        # backward step\n",
    "        model = sm.OLS(y, sm.add_constant(X[included])).fit()\n",
    "        pvalues = model.pvalues.drop(\"const\", errors=\"ignore\")\n",
    "\n",
    "        # use all coefs except intercept\n",
    "        if not pvalues.empty:\n",
    "                worst_pval = pvalues.max()\n",
    "                if worst_pval > threshold_out:\n",
    "                    worst_feature = pvalues.idxmax()      \n",
    "                    included.remove(worst_feature)\n",
    "                    changed = True\n",
    "                    if verbose:\n",
    "                        print(f\"Drop {worst_feature:30} with p-value {worst_pval:.4g}\")\n",
    "        if not changed:\n",
    "            break\n",
    "            \n",
    "    return included"
   ]
  },
  {
   "cell_type": "code",
   "execution_count": 85,
   "id": "66f76c20",
   "metadata": {},
   "outputs": [
    {
     "data": {
      "text/html": [
       "<div>\n",
       "<style scoped>\n",
       "    .dataframe tbody tr th:only-of-type {\n",
       "        vertical-align: middle;\n",
       "    }\n",
       "\n",
       "    .dataframe tbody tr th {\n",
       "        vertical-align: top;\n",
       "    }\n",
       "\n",
       "    .dataframe thead th {\n",
       "        text-align: right;\n",
       "    }\n",
       "</style>\n",
       "<table border=\"1\" class=\"dataframe\">\n",
       "  <thead>\n",
       "    <tr style=\"text-align: right;\">\n",
       "      <th></th>\n",
       "      <th>numerical__Bedrooms</th>\n",
       "      <th>numerical__Sq.Mt</th>\n",
       "      <th>numerical__Floor</th>\n",
       "      <th>remainder__Outer</th>\n",
       "      <th>remainder__Elevator</th>\n",
       "      <th>remainder__Penthouse</th>\n",
       "      <th>remainder__Cottage</th>\n",
       "      <th>remainder__Duplex</th>\n",
       "      <th>remainder__Semidetached</th>\n",
       "    </tr>\n",
       "  </thead>\n",
       "  <tbody>\n",
       "    <tr>\n",
       "      <th>35</th>\n",
       "      <td>2.509727</td>\n",
       "      <td>3.172314</td>\n",
       "      <td>-0.928944</td>\n",
       "      <td>1.0</td>\n",
       "      <td>1.0</td>\n",
       "      <td>1.0</td>\n",
       "      <td>0.0</td>\n",
       "      <td>0.0</td>\n",
       "      <td>0.0</td>\n",
       "    </tr>\n",
       "    <tr>\n",
       "      <th>315</th>\n",
       "      <td>-0.462738</td>\n",
       "      <td>-0.897800</td>\n",
       "      <td>-0.928944</td>\n",
       "      <td>1.0</td>\n",
       "      <td>1.0</td>\n",
       "      <td>1.0</td>\n",
       "      <td>0.0</td>\n",
       "      <td>0.0</td>\n",
       "      <td>0.0</td>\n",
       "    </tr>\n",
       "    <tr>\n",
       "      <th>1581</th>\n",
       "      <td>-0.462738</td>\n",
       "      <td>0.166691</td>\n",
       "      <td>0.154046</td>\n",
       "      <td>1.0</td>\n",
       "      <td>1.0</td>\n",
       "      <td>1.0</td>\n",
       "      <td>0.0</td>\n",
       "      <td>0.0</td>\n",
       "      <td>0.0</td>\n",
       "    </tr>\n",
       "    <tr>\n",
       "      <th>1632</th>\n",
       "      <td>-0.462738</td>\n",
       "      <td>0.918097</td>\n",
       "      <td>0.154046</td>\n",
       "      <td>1.0</td>\n",
       "      <td>1.0</td>\n",
       "      <td>1.0</td>\n",
       "      <td>0.0</td>\n",
       "      <td>0.0</td>\n",
       "      <td>0.0</td>\n",
       "    </tr>\n",
       "    <tr>\n",
       "      <th>197</th>\n",
       "      <td>-1.453559</td>\n",
       "      <td>-1.085652</td>\n",
       "      <td>-0.928944</td>\n",
       "      <td>1.0</td>\n",
       "      <td>1.0</td>\n",
       "      <td>1.0</td>\n",
       "      <td>0.0</td>\n",
       "      <td>0.0</td>\n",
       "      <td>0.0</td>\n",
       "    </tr>\n",
       "  </tbody>\n",
       "</table>\n",
       "</div>"
      ],
      "text/plain": [
       "      numerical__Bedrooms  numerical__Sq.Mt  numerical__Floor  \\\n",
       "35               2.509727          3.172314         -0.928944   \n",
       "315             -0.462738         -0.897800         -0.928944   \n",
       "1581            -0.462738          0.166691          0.154046   \n",
       "1632            -0.462738          0.918097          0.154046   \n",
       "197             -1.453559         -1.085652         -0.928944   \n",
       "\n",
       "      remainder__Outer  remainder__Elevator  remainder__Penthouse  \\\n",
       "35                 1.0                  1.0                   1.0   \n",
       "315                1.0                  1.0                   1.0   \n",
       "1581               1.0                  1.0                   1.0   \n",
       "1632               1.0                  1.0                   1.0   \n",
       "197                1.0                  1.0                   1.0   \n",
       "\n",
       "      remainder__Cottage  remainder__Duplex  remainder__Semidetached  \n",
       "35                   0.0                0.0                      0.0  \n",
       "315                  0.0                0.0                      0.0  \n",
       "1581                 0.0                0.0                      0.0  \n",
       "1632                 0.0                0.0                      0.0  \n",
       "197                  0.0                0.0                      0.0  "
      ]
     },
     "execution_count": 85,
     "metadata": {},
     "output_type": "execute_result"
    }
   ],
   "source": [
    "x_train_preprocessed_df = pd.DataFrame(x_train_preprocessed, columns=preprocessor.get_feature_names_out())\n",
    "# Reset index to match with y_train\n",
    "x_train_preprocessed_df.index = y_train.index\n",
    "\n",
    "x_train_preprocessed_df.head()"
   ]
  },
  {
   "cell_type": "code",
   "execution_count": 86,
   "id": "901eac8c",
   "metadata": {},
   "outputs": [
    {
     "name": "stdout",
     "output_type": "stream",
     "text": [
      "Add  remainder__Outer               with p-value 2.81e-32\n",
      "Add  remainder__Elevator            with p-value 2.81e-32\n",
      "Add  remainder__Penthouse           with p-value 2.81e-32\n",
      "Add  numerical__Sq.Mt               with p-value 1.666e-19\n",
      "resulting features:\n",
      "['remainder__Outer', 'remainder__Elevator', 'remainder__Penthouse', 'numerical__Sq.Mt']\n"
     ]
    }
   ],
   "source": [
    "result = stepwise_selection(x_train_preprocessed_df, y_train)\n",
    "print('resulting features:')\n",
    "print(result)"
   ]
  },
  {
   "cell_type": "code",
   "execution_count": 87,
   "id": "5c3dbb95",
   "metadata": {},
   "outputs": [
    {
     "data": {
      "text/html": [
       "<div>\n",
       "<style scoped>\n",
       "    .dataframe tbody tr th:only-of-type {\n",
       "        vertical-align: middle;\n",
       "    }\n",
       "\n",
       "    .dataframe tbody tr th {\n",
       "        vertical-align: top;\n",
       "    }\n",
       "\n",
       "    .dataframe thead th {\n",
       "        text-align: right;\n",
       "    }\n",
       "</style>\n",
       "<table border=\"1\" class=\"dataframe\">\n",
       "  <thead>\n",
       "    <tr style=\"text-align: right;\">\n",
       "      <th></th>\n",
       "      <th>numerical__Sq.Mt</th>\n",
       "      <th>remainder__Outer</th>\n",
       "      <th>remainder__Elevator</th>\n",
       "      <th>remainder__Penthouse</th>\n",
       "    </tr>\n",
       "  </thead>\n",
       "  <tbody>\n",
       "    <tr>\n",
       "      <th>35</th>\n",
       "      <td>3.172314</td>\n",
       "      <td>1.0</td>\n",
       "      <td>1.0</td>\n",
       "      <td>1.0</td>\n",
       "    </tr>\n",
       "    <tr>\n",
       "      <th>315</th>\n",
       "      <td>-0.897800</td>\n",
       "      <td>1.0</td>\n",
       "      <td>1.0</td>\n",
       "      <td>1.0</td>\n",
       "    </tr>\n",
       "    <tr>\n",
       "      <th>1581</th>\n",
       "      <td>0.166691</td>\n",
       "      <td>1.0</td>\n",
       "      <td>1.0</td>\n",
       "      <td>1.0</td>\n",
       "    </tr>\n",
       "    <tr>\n",
       "      <th>1632</th>\n",
       "      <td>0.918097</td>\n",
       "      <td>1.0</td>\n",
       "      <td>1.0</td>\n",
       "      <td>1.0</td>\n",
       "    </tr>\n",
       "    <tr>\n",
       "      <th>197</th>\n",
       "      <td>-1.085652</td>\n",
       "      <td>1.0</td>\n",
       "      <td>1.0</td>\n",
       "      <td>1.0</td>\n",
       "    </tr>\n",
       "  </tbody>\n",
       "</table>\n",
       "</div>"
      ],
      "text/plain": [
       "      numerical__Sq.Mt  remainder__Outer  remainder__Elevator  \\\n",
       "35            3.172314               1.0                  1.0   \n",
       "315          -0.897800               1.0                  1.0   \n",
       "1581          0.166691               1.0                  1.0   \n",
       "1632          0.918097               1.0                  1.0   \n",
       "197          -1.085652               1.0                  1.0   \n",
       "\n",
       "      remainder__Penthouse  \n",
       "35                     1.0  \n",
       "315                    1.0  \n",
       "1581                   1.0  \n",
       "1632                   1.0  \n",
       "197                    1.0  "
      ]
     },
     "execution_count": 87,
     "metadata": {},
     "output_type": "execute_result"
    }
   ],
   "source": [
    "for item in x_train_preprocessed_df.columns:\n",
    "    if item not in result:\n",
    "        x_train_preprocessed_df=x_train_preprocessed_df.drop(labels=[item],axis=1) #removes the non relevant variables\n",
    "\n",
    "x_train_preprocessed_df.head()"
   ]
  },
  {
   "cell_type": "markdown",
   "id": "2bb7ed73",
   "metadata": {},
   "source": [
    "## Show the correlation matrix"
   ]
  },
  {
   "cell_type": "code",
   "execution_count": 88,
   "id": "c916e000",
   "metadata": {},
   "outputs": [
    {
     "data": {
      "text/plain": [
       "<Axes: >"
      ]
     },
     "execution_count": 88,
     "metadata": {},
     "output_type": "execute_result"
    },
    {
     "data": {
      "image/png": "[encoded data removed]",
      "text/plain": [
       "<Figure size 1000x1000 with 2 Axes>"
      ]
     },
     "metadata": {},
     "output_type": "display_data"
    }
   ],
   "source": [
    "import matplotlib.pyplot as plt\n",
    "\n",
    "sns.set(font_scale=1.1)\n",
    "fig, ax = plt.subplots(figsize=(10,10))         \n",
    "sns.heatmap(x_train_preprocessed_df.corr(), annot=True, fmt=\".2f\", linewidths=1, ax=ax)"
   ]
  },
  {
   "cell_type": "markdown",
   "id": "abc06493",
   "metadata": {},
   "source": [
    "## Create a linear regression model"
   ]
  },
  {
   "cell_type": "code",
   "execution_count": 89,
   "id": "869484a4",
   "metadata": {},
   "outputs": [],
   "source": [
    "from sklearn.linear_model import LinearRegression\n",
    "\n",
    "lm = LinearRegression(fit_intercept=True)\n",
    "model=lm.fit(x_train_preprocessed_df, y_train)\n"
   ]
  },
  {
   "cell_type": "code",
   "execution_count": 90,
   "id": "82f14f29",
   "metadata": {},
   "outputs": [
    {
     "name": "stdout",
     "output_type": "stream",
     "text": [
      "Intercept:  2509.301724137931\n"
     ]
    },
    {
     "data": {
      "text/html": [
       "<div>\n",
       "<style scoped>\n",
       "    .dataframe tbody tr th:only-of-type {\n",
       "        vertical-align: middle;\n",
       "    }\n",
       "\n",
       "    .dataframe tbody tr th {\n",
       "        vertical-align: top;\n",
       "    }\n",
       "\n",
       "    .dataframe thead th {\n",
       "        text-align: right;\n",
       "    }\n",
       "</style>\n",
       "<table border=\"1\" class=\"dataframe\">\n",
       "  <thead>\n",
       "    <tr style=\"text-align: right;\">\n",
       "      <th></th>\n",
       "      <th>Coefficient</th>\n",
       "    </tr>\n",
       "  </thead>\n",
       "  <tbody>\n",
       "    <tr>\n",
       "      <th>numerical__Sq.Mt</th>\n",
       "      <td>1161.823098</td>\n",
       "    </tr>\n",
       "    <tr>\n",
       "      <th>remainder__Outer</th>\n",
       "      <td>0.000000</td>\n",
       "    </tr>\n",
       "    <tr>\n",
       "      <th>remainder__Elevator</th>\n",
       "      <td>0.000000</td>\n",
       "    </tr>\n",
       "    <tr>\n",
       "      <th>remainder__Penthouse</th>\n",
       "      <td>0.000000</td>\n",
       "    </tr>\n",
       "  </tbody>\n",
       "</table>\n",
       "</div>"
      ],
      "text/plain": [
       "                      Coefficient\n",
       "numerical__Sq.Mt      1161.823098\n",
       "remainder__Outer         0.000000\n",
       "remainder__Elevator      0.000000\n",
       "remainder__Penthouse     0.000000"
      ]
     },
     "execution_count": 90,
     "metadata": {},
     "output_type": "execute_result"
    }
   ],
   "source": [
    "# print coefficients (but not confidence intervals: sklearn does not store them)\n",
    "coeff_df = pd.DataFrame(model.coef_,x_train_preprocessed_df.columns,columns=['Coefficient'])\n",
    "print(\"Intercept: \", lm.intercept_)\n",
    "coeff_df"
   ]
  },
  {
   "cell_type": "markdown",
   "id": "ae875c4e",
   "metadata": {},
   "source": [
    "## Get R squared value"
   ]
  },
  {
   "cell_type": "code",
   "execution_count": 91,
   "id": "ddee57e9",
   "metadata": {},
   "outputs": [
    {
     "name": "stdout",
     "output_type": "stream",
     "text": [
      "R squared value is : 0.513\n"
     ]
    }
   ],
   "source": [
    "print(f\"R squared value is : {model.score(x_train_preprocessed_df,y_train):.3f}\")"
   ]
  },
  {
   "cell_type": "markdown",
   "id": "0114591a",
   "metadata": {},
   "source": [
    "## Create train predictions"
   ]
  },
  {
   "cell_type": "code",
   "execution_count": 92,
   "id": "f573d822",
   "metadata": {},
   "outputs": [
    {
     "data": {
      "image/png": "[encoded data removed]",
      "text/plain": [
       "<Figure size 640x480 with 1 Axes>"
      ]
     },
     "metadata": {},
     "output_type": "display_data"
    }
   ],
   "source": [
    "import numpy as np\n",
    "\n",
    "predictions_train = lm.predict(x_train_preprocessed_df[x_train_preprocessed_df.columns]) #only with the columns used in the model\n",
    "\n",
    "plt.title(\"Real vs. Fitted (train dataset)\")\n",
    "plt.scatter(y_train,predictions_train)\n",
    "\n",
    "coef = np.polyfit(y_train, predictions_train, 1)  \n",
    "poly1d_fn = np.poly1d(coef)  \n",
    "plt.plot(y, poly1d_fn(y), color=\"red\", label=\"Regression line\")\n",
    "\n",
    "plt.xlabel(\"Real\")\n",
    "plt.ylabel(\"Fitted\")\n",
    "plt.legend()\n",
    "plt.show()"
   ]
  },
  {
   "cell_type": "markdown",
   "id": "9c9e9b9e",
   "metadata": {},
   "source": [
    "## Create test predictions"
   ]
  },
  {
   "cell_type": "code",
   "execution_count": 93,
   "id": "236864fb",
   "metadata": {},
   "outputs": [
    {
     "data": {
      "image/png": "[encoded data removed]",
      "text/plain": [
       "<Figure size 640x480 with 1 Axes>"
      ]
     },
     "metadata": {},
     "output_type": "display_data"
    }
   ],
   "source": [
    "# test dataset\n",
    "x_test_preprocessed_df = pd.DataFrame(x_test_preprocessed, columns=preprocessor.get_feature_names_out())\n",
    "predictions_test = lm.predict(x_test_preprocessed_df[x_train_preprocessed_df.columns]) #only with the columns used in the model\n",
    "plt.title(\"Real vs. Fitted (test dataset)\")\n",
    "plt.scatter(y_test,predictions_test, color=\"orange\")\n",
    "\n",
    "coef = np.polyfit(y_test, predictions_test, 1)  \n",
    "poly1d_fn = np.poly1d(coef)  \n",
    "plt.plot(y_test, poly1d_fn(y_test), color=\"red\", label=\"Regression line\")\n",
    "\n",
    "plt.xlabel(\"Real\")\n",
    "plt.ylabel(\"Fitted\")\n",
    "\n",
    "plt.legend()\n",
    "plt.show()"
   ]
  },
  {
   "cell_type": "markdown",
   "id": "3a77015b",
   "metadata": {},
   "source": [
    "## Residual histograms"
   ]
  },
  {
   "cell_type": "code",
   "execution_count": 94,
   "id": "3888a7ae",
   "metadata": {},
   "outputs": [
    {
     "data": {
      "image/png": "[encoded data removed]",
      "text/plain": [
       "<Figure size 1200x500 with 2 Axes>"
      ]
     },
     "metadata": {},
     "output_type": "display_data"
    }
   ],
   "source": [
    "fig, axes = plt.subplots(1, 2, figsize=(12, 5))\n",
    "\n",
    "sns.histplot((y_train - predictions_train), bins=50, color=\"green\", ax=axes[0])\n",
    "axes[0].set_title(\"Histogram of residuals - train dataset\")\n",
    "\n",
    "sns.histplot((y_test - predictions_test), bins=50, color=\"orange\", ax=axes[1])\n",
    "axes[1].set_title(\"Histogram of residuals - test dataset\")\n",
    "\n",
    "plt.tight_layout()\n",
    "plt.show()"
   ]
  },
  {
   "cell_type": "markdown",
   "id": "7d9aaa3f",
   "metadata": {},
   "source": [
    "## Get metrics"
   ]
  },
  {
   "cell_type": "code",
   "execution_count": 95,
   "id": "39085c8c",
   "metadata": {},
   "outputs": [
    {
     "name": "stdout",
     "output_type": "stream",
     "text": [
      "Errors:\n",
      "\n"
     ]
    },
    {
     "data": {
      "text/html": [
       "<div>\n",
       "<style scoped>\n",
       "    .dataframe tbody tr th:only-of-type {\n",
       "        vertical-align: middle;\n",
       "    }\n",
       "\n",
       "    .dataframe tbody tr th {\n",
       "        vertical-align: top;\n",
       "    }\n",
       "\n",
       "    .dataframe thead th {\n",
       "        text-align: right;\n",
       "    }\n",
       "</style>\n",
       "<table border=\"1\" class=\"dataframe\">\n",
       "  <thead>\n",
       "    <tr style=\"text-align: right;\">\n",
       "      <th></th>\n",
       "      <th>Metric</th>\n",
       "      <th>Train</th>\n",
       "      <th>Test</th>\n",
       "    </tr>\n",
       "  </thead>\n",
       "  <tbody>\n",
       "    <tr>\n",
       "      <th>0</th>\n",
       "      <td>MAE</td>\n",
       "      <td>7.316323e+02</td>\n",
       "      <td>674.060779</td>\n",
       "    </tr>\n",
       "    <tr>\n",
       "      <th>1</th>\n",
       "      <td>MSE</td>\n",
       "      <td>1.283268e+06</td>\n",
       "      <td>784512.808474</td>\n",
       "    </tr>\n",
       "    <tr>\n",
       "      <th>2</th>\n",
       "      <td>RMSE</td>\n",
       "      <td>1.132814e+03</td>\n",
       "      <td>885.727277</td>\n",
       "    </tr>\n",
       "    <tr>\n",
       "      <th>3</th>\n",
       "      <td>MAPE %</td>\n",
       "      <td>3.213335e+01</td>\n",
       "      <td>27.061492</td>\n",
       "    </tr>\n",
       "  </tbody>\n",
       "</table>\n",
       "</div>"
      ],
      "text/plain": [
       "   Metric         Train           Test\n",
       "0     MAE  7.316323e+02     674.060779\n",
       "1     MSE  1.283268e+06  784512.808474\n",
       "2    RMSE  1.132814e+03     885.727277\n",
       "3  MAPE %  3.213335e+01      27.061492"
      ]
     },
     "execution_count": 95,
     "metadata": {},
     "output_type": "execute_result"
    }
   ],
   "source": [
    "from sklearn import metrics\n",
    "\n",
    "# error comparison between the two datasets\n",
    "print (\"Errors:\\n\")\n",
    "results = {\n",
    "    'Metric': ['MAE', 'MSE', 'RMSE', 'MAPE %'],\n",
    "    'Train': [\n",
    "        metrics.mean_absolute_error(y_train, predictions_train),\n",
    "        metrics.mean_squared_error(y_train, predictions_train),\n",
    "        np.sqrt(metrics.mean_squared_error(y_train, predictions_train)),\n",
    "        np.mean(100 * abs(y_train - predictions_train) / y_train)\n",
    "    ],\n",
    "    'Test': [\n",
    "        metrics.mean_absolute_error(y_test, predictions_test),\n",
    "        metrics.mean_squared_error(y_test, predictions_test),\n",
    "        np.sqrt(metrics.mean_squared_error(y_test, predictions_test)),\n",
    "        np.mean(100 * abs(y_test - predictions_test) / y_test)\n",
    "    ]\n",
    "}\n",
    "\n",
    "results_df = pd.DataFrame(results)\n",
    "results_df"
   ]
  },
  {
   "cell_type": "code",
   "execution_count": 96,
   "id": "69e2b75a",
   "metadata": {},
   "outputs": [
    {
     "name": "stdout",
     "output_type": "stream",
     "text": [
      "                            OLS Regression Results                            \n",
      "==============================================================================\n",
      "Dep. Variable:                   Rent   R-squared:                       0.513\n",
      "Model:                            OLS   Adj. R-squared:                  0.508\n",
      "Method:                 Least Squares   F-statistic:                     119.9\n",
      "Date:                Sun, 05 Oct 2025   Prob (F-statistic):           1.67e-19\n",
      "Time:                        21:10:30   Log-Likelihood:                -980.36\n",
      "No. Observations:                 116   AIC:                             1965.\n",
      "Df Residuals:                     114   BIC:                             1970.\n",
      "Df Model:                           1                                         \n",
      "Covariance Type:            nonrobust                                         \n",
      "========================================================================================\n",
      "                           coef    std err          t      P>|t|      [0.025      0.975]\n",
      "----------------------------------------------------------------------------------------\n",
      "numerical__Sq.Mt      1161.8231    106.098     10.950      0.000     951.644    1372.002\n",
      "remainder__Outer       836.4339     35.366     23.651      0.000     766.374     906.494\n",
      "remainder__Elevator    836.4339     35.366     23.651      0.000     766.374     906.494\n",
      "remainder__Penthouse   836.4339     35.366     23.651      0.000     766.374     906.494\n",
      "==============================================================================\n",
      "Omnibus:                       88.520   Durbin-Watson:                   1.786\n",
      "Prob(Omnibus):                  0.000   Jarque-Bera (JB):              984.417\n",
      "Skew:                           2.371   Prob(JB):                    1.72e-214\n",
      "Kurtosis:                      16.461   Cond. No.                     1.01e+32\n",
      "==============================================================================\n",
      "\n",
      "Notes:\n",
      "[1] Standard Errors assume that the covariance matrix of the errors is correctly specified.\n",
      "[2] The smallest eigenvalue is 3.39e-62. This might indicate that there are\n",
      "strong multicollinearity problems or that the design matrix is singular.\n"
     ]
    }
   ],
   "source": [
    "x_train_preprocessed_df = sm.add_constant(x_train_preprocessed_df) \n",
    "result = sm.OLS(y_train, x_train_preprocessed_df).fit()\n",
    "print (result.summary())"
   ]
  }
 ],
 "metadata": {
  "kernelspec": {
   "display_name": ".venv",
   "language": "python",
   "name": "python3"
  },
  "language_info": {
   "codemirror_mode": {
    "name": "ipython",
    "version": 3
   },
   "file_extension": ".py",
   "mimetype": "text/x-python",
   "name": "python",
   "nbconvert_exporter": "python",
   "pygments_lexer": "ipython3",
   "version": "3.13.6"
  }
 },
 "nbformat": 4,
 "nbformat_minor": 5
}
